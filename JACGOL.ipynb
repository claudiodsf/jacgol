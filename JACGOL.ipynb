{
 "cells": [
  {
   "cell_type": "markdown",
   "metadata": {},
   "source": [
    "# JACGOL\n",
    "## Just Another Conway's Game Of Life\n",
    "\n",
    "Rules:\n",
    "\n",
    "  1. Any live cell with fewer than two live neighbours dies, as if by underpopulation.\n",
    "  2. Any live cell with two or three live neighbours lives on to the next generation.\n",
    "  3. Any live cell with more than three live neighbours dies, as if by overpopulation.\n",
    "  4. Any dead cell with exactly three live neighbours becomes a live cell, as if by reproduction.\n",
    "  \n",
    "Author: Claudio Satriano"
   ]
  },
  {
   "cell_type": "code",
   "execution_count": null,
   "metadata": {},
   "outputs": [],
   "source": [
    "%matplotlib notebook\n",
    "import numpy as np\n",
    "import scipy.signal as ss\n",
    "import time\n",
    "import matplotlib.pyplot as plt"
   ]
  },
  {
   "cell_type": "code",
   "execution_count": null,
   "metadata": {},
   "outputs": [],
   "source": [
    "size = 41, 41\n",
    "grid = np.random.randint(0, 2, size=size)\n",
    "# grid = np.zeros(size)\n",
    "# grid[4:7, 5] = 1\n",
    "# print(grid)\n",
    "nruns = 100"
   ]
  },
  {
   "cell_type": "code",
   "execution_count": null,
   "metadata": {},
   "outputs": [],
   "source": [
    "fig, ax = plt.subplots()\n",
    "plt.tick_params(\n",
    "    axis='both', which='both', bottom=False, top=False, left=False, right=False,\n",
    "    labelbottom=False, labelleft=False)\n",
    "img = ax.imshow(grid, cmap='binary')"
   ]
  },
  {
   "cell_type": "code",
   "execution_count": null,
   "metadata": {},
   "outputs": [],
   "source": [
    "kernel = [[1, 1, 1], [1, 0, 1], [1, 1, 1]]\n",
    "\n",
    "for _ in range(nruns):\n",
    "    count = ss.convolve(grid, kernel, mode='same')\n",
    "    # print(count)\n",
    "    newgrid = grid.copy()\n",
    "    newgrid[(grid == 1) * (count <= 3)] = 1\n",
    "    newgrid[(grid == 1) * (count < 2)] = 0\n",
    "    newgrid[(grid == 1) * (count > 3)] = 0\n",
    "    newgrid[(grid == 0) * (count == 3)] = 1\n",
    "    # print(newgrid)\n",
    "    img.set_data(newgrid)\n",
    "    fig.canvas.draw()\n",
    "    # fig.savefig('{:04d}.png'.format(_))\n",
    "    time.sleep(0.5)\n",
    "    grid = newgrid"
   ]
  },
  {
   "cell_type": "code",
   "execution_count": null,
   "metadata": {},
   "outputs": [],
   "source": []
  }
 ],
 "metadata": {
  "kernelspec": {
   "display_name": "Python 3",
   "language": "python",
   "name": "python3"
  },
  "language_info": {
   "codemirror_mode": {
    "name": "ipython",
    "version": 3
   },
   "file_extension": ".py",
   "mimetype": "text/x-python",
   "name": "python",
   "nbconvert_exporter": "python",
   "pygments_lexer": "ipython3",
   "version": "3.7.6"
  }
 },
 "nbformat": 4,
 "nbformat_minor": 4
}
